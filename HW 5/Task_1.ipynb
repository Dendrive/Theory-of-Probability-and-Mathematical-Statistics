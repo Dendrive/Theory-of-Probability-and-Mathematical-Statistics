{
 "cells": [
  {
   "attachments": {},
   "cell_type": "markdown",
   "metadata": {},
   "source": [
    "Когда используется критерий Стьюдента, а когда Z –критерий?"
   ]
  },
  {
   "attachments": {},
   "cell_type": "markdown",
   "metadata": {},
   "source": [
    "Критерий Стьюдента применяется в случае, когда размер выборки меньше 30 и неизвестно стандартное отклонение генеральной совокупности. Z-критерий используется, когда размер выборки больше или равен 30 и известно стандартное отклонение генеральной совокупности либо имеется возможность его оценить по выборке. Еще Z-критерий используется, когда распределение признака в выборке является нормальным."
   ]
  }
 ],
 "metadata": {
  "kernelspec": {
   "display_name": "Python 3",
   "language": "python",
   "name": "python3"
  },
  "language_info": {
   "name": "python",
   "version": "3.11.1"
  },
  "orig_nbformat": 4,
  "vscode": {
   "interpreter": {
    "hash": "ec1f4382e1796e4aca30cabb0ec51fac13e74831d675e5f70d6623b69632e3ed"
   }
  }
 },
 "nbformat": 4,
 "nbformat_minor": 2
}
